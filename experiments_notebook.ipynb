{
 "cells": [
  {
   "cell_type": "code",
   "execution_count": 1,
   "metadata": {},
   "outputs": [],
   "source": [
    "from algorithm_functions import *"
   ]
  },
  {
   "cell_type": "code",
   "execution_count": 2,
   "metadata": {},
   "outputs": [],
   "source": [
    "np.random.seed(0)"
   ]
  },
  {
   "cell_type": "code",
   "execution_count": 3,
   "metadata": {},
   "outputs": [],
   "source": [
    "def generate_cov_mat(d, k):\n",
    "    W = np.random.normal(size =(d,k))\n",
    "    S = W.dot(W.transpose()) + np.diag(np.random.uniform(size = (1, d)))\n",
    "    S = np.diag(1. / np.sqrt(np.diagonal(S))).dot(S).dot(np.diag(1. / np.sqrt(np.diagonal(S))))\n",
    "    return(S)"
   ]
  },
  {
   "cell_type": "code",
   "execution_count": 4,
   "metadata": {},
   "outputs": [],
   "source": [
    "def plot_grid_for_dim(n_trips, errors, creat_func, n_sims, normalize, n_dim, means, covs, error_labels=None, cov_labels=None):\n",
    "    plt.figure(figsize=(20,10))\n",
    "    n_rows = len(errors)\n",
    "    n_cols = len(means)\n",
    "    if error_labels is None:\n",
    "        error_labels = list(map(lambda x: 'Error = ' + str(x), errors))\n",
    "    if cov_labels is None:\n",
    "        cov_labels = ['No covariance', 'Low covariance', 'Moderate covariance']\n",
    "    for i in range(n_rows):\n",
    "        for j in range(n_cols):\n",
    "            plt.subplot(n_rows, n_cols, i * n_cols + j + 1)\n",
    "            simulate_fits(n_trips, errors[i], creat_func, n_sims, normalize, n_dim, means[j], covs[j], show=False)\n",
    "            plt.title(error_labels[i] + ', ' + cov_labels[j])\n",
    "            plt.xlabel('Iteration')\n",
    "            plt.ylabel('Error')\n",
    "    plt.subplots_adjust(hspace=0.3)"
   ]
  },
  {
   "cell_type": "markdown",
   "metadata": {},
   "source": [
    "# Paper recreation"
   ]
  },
  {
   "cell_type": "code",
   "execution_count": 13,
   "metadata": {},
   "outputs": [
    {
     "data": {
      "image/png": "[encoded data removed]",
      "text/plain": [
       "<Figure size 432x288 with 1 Axes>"
      ]
     },
     "metadata": {
      "needs_background": "light"
     },
     "output_type": "display_data"
    }
   ],
   "source": [
    "nd = 10\n",
    "cov_mat = np.eye(nd)\n",
    "simulate_fits(n_trips = 300, error_size = 0, creation_func = create_nd_data, n_sims = 200, \n",
    "              do_normalize = True,\n",
    "              n_dim = nd, mean = np.zeros(nd), cov = cov_mat)"
   ]
  },
  {
   "cell_type": "markdown",
   "metadata": {},
   "source": [
    "# 3 dimensions"
   ]
  },
  {
   "cell_type": "code",
   "execution_count": null,
   "metadata": {},
   "outputs": [],
   "source": [
    "nd = 3\n",
    "\n",
    "covs = [np.eye(nd)]\n",
    "\n",
    "mean_cov = np.inf\n",
    "while mean_cov > 0.2:\n",
    "    cov_mat = generate_cov_mat(3,3)\n",
    "    #sum elements of upper triangle, subtract out diagonal (all ones, so nd total), divide by\n",
    "    #number of elements in the upper triangle\n",
    "    mean_cov = (np.sum(np.abs(np.triu(cov_mat))) - nd) / ((nd**2 - nd) / 2)\n",
    "covs.append(cov_mat)\n",
    "\n",
    "mean_cov = 0\n",
    "while mean_cov < 0.55 or mean_cov > 0.7:\n",
    "    cov_mat = generate_cov_mat(3,1)\n",
    "    mean_cov = (np.sum(np.abs(np.triu(cov_mat))) - nd) / ((nd**2 - nd) / 2)\n",
    "covs.append(cov_mat)\n",
    "\n",
    "means = [np.zeros(nd) for _ in range(len(covs))]\n",
    "errors = [0, 3]\n",
    "\n",
    "plot_grid_for_dim(10000, errors, create_nd_data, 200, True, nd, means, covs)"
   ]
  },
  {
   "cell_type": "markdown",
   "metadata": {},
   "source": [
    "# 9 dimensions"
   ]
  },
  {
   "cell_type": "code",
   "execution_count": null,
   "metadata": {},
   "outputs": [],
   "source": [
    "nd = 9\n",
    "\n",
    "covs = [np.eye(nd)]\n",
    "\n",
    "mean_cov = np.inf\n",
    "while mean_cov > 0.4:\n",
    "    cov_mat = generate_cov_mat(9,9)\n",
    "    mean_cov = (np.sum(np.abs(np.triu(cov_mat))) - nd) / ((nd**2 - nd) / 2)\n",
    "\n",
    "covs.append(cov_mat)\n",
    "\n",
    "mean_cov = 0\n",
    "while mean_cov < 0.55 or mean_cov > 0.6:\n",
    "    cov_mat = generate_cov_mat(9,4)\n",
    "    mean_cov = (np.sum(np.abs(np.triu(cov_mat))) - nd) / ((nd**2 - nd) / 2)\n",
    "covs.append(cov_mat)\n",
    "\n",
    "means = [np.zeros(nd) for _ in range(len(covs))]\n",
    "errors = [0, 3]\n",
    "\n",
    "plot_grid_for_dim(10000, errors, create_nd_data, 200, True, nd, means, covs)"
   ]
  },
  {
   "cell_type": "markdown",
   "metadata": {},
   "source": [
    "# 27 dimensions"
   ]
  },
  {
   "cell_type": "code",
   "execution_count": null,
   "metadata": {},
   "outputs": [],
   "source": [
    "nd = 27\n",
    "\n",
    "covs = [np.eye(nd)]\n",
    "\n",
    "mean_cov = np.inf\n",
    "while mean_cov > 0.4:\n",
    "    cov_mat = generate_cov_mat(27,27)\n",
    "    mean_cov = (np.sum(np.abs(np.triu(cov_mat))) - nd) / ((nd**2 - nd) / 2)\n",
    "covs.append(cov_mat)\n",
    "\n",
    "mean_cov = 0\n",
    "while mean_cov < 0.5 or mean_cov > 0.7:\n",
    "    cov_mat = generate_cov_mat(27,2)\n",
    "    mean_cov = (np.sum(np.abs(np.triu(cov_mat))) - nd) / ((nd**2 - nd) / 2)\n",
    "covs.append(cov_mat)\n",
    "\n",
    "means = [np.zeros(nd) for _ in range(len(covs))]\n",
    "errors = [0, 3]\n",
    "\n",
    "plot_grid_for_dim(10000, errors, create_nd_data, 200, True, nd, means, covs)"
   ]
  },
  {
   "cell_type": "code",
   "execution_count": null,
   "metadata": {},
   "outputs": [],
   "source": []
  },
  {
   "cell_type": "code",
   "execution_count": null,
   "metadata": {},
   "outputs": [],
   "source": []
  },
  {
   "cell_type": "code",
   "execution_count": null,
   "metadata": {},
   "outputs": [],
   "source": []
  },
  {
   "cell_type": "code",
   "execution_count": null,
   "metadata": {},
   "outputs": [],
   "source": []
  },
  {
   "cell_type": "markdown",
   "metadata": {},
   "source": []
  },
  {
   "cell_type": "markdown",
   "metadata": {},
   "source": [
    "# 3 dimensions"
   ]
  },
  {
   "cell_type": "code",
   "execution_count": null,
   "metadata": {},
   "outputs": [],
   "source": [
    "nd = 3"
   ]
  },
  {
   "cell_type": "markdown",
   "metadata": {},
   "source": [
    "## No covariance"
   ]
  },
  {
   "cell_type": "markdown",
   "metadata": {},
   "source": [
    "### No error"
   ]
  },
  {
   "cell_type": "code",
   "execution_count": null,
   "metadata": {},
   "outputs": [],
   "source": [
    "simulate_fits(n_trips = 10000, error_size = 0, creation_func = create_nd_data, n_sims = 100, \n",
    "              do_normalize = True,\n",
    "              n_dim = nd, mean = np.zeros(nd), cov = np.eye(nd))"
   ]
  },
  {
   "cell_type": "markdown",
   "metadata": {},
   "source": [
    "### Error = 3"
   ]
  },
  {
   "cell_type": "code",
   "execution_count": null,
   "metadata": {},
   "outputs": [],
   "source": [
    "simulate_fits(n_trips = 10000, error_size = 3, creation_func = create_nd_data, n_sims = 100, \n",
    "              do_normalize = True,\n",
    "              n_dim = nd, mean = np.zeros(nd), cov = np.eye(nd))"
   ]
  },
  {
   "cell_type": "markdown",
   "metadata": {},
   "source": [
    "## Low Covariance"
   ]
  },
  {
   "cell_type": "code",
   "execution_count": null,
   "metadata": {},
   "outputs": [],
   "source": [
    "mean_cov = np.inf\n",
    "while mean_cov > 0.4:\n",
    "    cov_mat = generate_cov_mat(3,3)\n",
    "    mean_cov = np.mean(np.abs(cov_mat))"
   ]
  },
  {
   "cell_type": "markdown",
   "metadata": {},
   "source": [
    "### No error"
   ]
  },
  {
   "cell_type": "code",
   "execution_count": null,
   "metadata": {},
   "outputs": [],
   "source": [
    "simulate_fits(n_trips = 10000, error_size = 0, creation_func = create_nd_data, n_sims = 100, \n",
    "              do_normalize = True,\n",
    "              n_dim = nd, mean = np.zeros(nd), cov = cov_mat)"
   ]
  },
  {
   "cell_type": "markdown",
   "metadata": {},
   "source": [
    "### Error = 3"
   ]
  },
  {
   "cell_type": "code",
   "execution_count": null,
   "metadata": {},
   "outputs": [],
   "source": [
    "simulate_fits(n_trips = 10000, error_size = 3, creation_func = create_nd_data, n_sims = 100, \n",
    "              do_normalize = True,\n",
    "              n_dim = nd, mean = np.zeros(nd), cov = cov_mat)"
   ]
  },
  {
   "cell_type": "markdown",
   "metadata": {},
   "source": [
    "## High Covariance"
   ]
  },
  {
   "cell_type": "code",
   "execution_count": null,
   "metadata": {
    "scrolled": true
   },
   "outputs": [],
   "source": [
    "mean_cov = 0\n",
    "while mean_cov < 0.7:\n",
    "    cov_mat = generate_cov_mat(3,1)\n",
    "    mean_cov = np.mean(np.abs(cov_mat))"
   ]
  },
  {
   "cell_type": "markdown",
   "metadata": {},
   "source": [
    "### No error"
   ]
  },
  {
   "cell_type": "code",
   "execution_count": null,
   "metadata": {},
   "outputs": [],
   "source": [
    "simulate_fits(n_trips = 10000, error_size = 0, creation_func = create_nd_data, n_sims = 100, \n",
    "              do_normalize = True,\n",
    "              n_dim = nd, mean = np.zeros(nd), cov = cov_mat)"
   ]
  },
  {
   "cell_type": "markdown",
   "metadata": {},
   "source": [
    "### Error = 3"
   ]
  },
  {
   "cell_type": "code",
   "execution_count": null,
   "metadata": {},
   "outputs": [],
   "source": [
    "simulate_fits(n_trips = 10000, error_size = 3, creation_func = create_nd_data, n_sims = 100, \n",
    "              do_normalize = True,\n",
    "              n_dim = nd, mean = np.zeros(nd), cov = cov_mat)"
   ]
  },
  {
   "cell_type": "markdown",
   "metadata": {},
   "source": [
    "# 9 Dimensions"
   ]
  },
  {
   "cell_type": "code",
   "execution_count": null,
   "metadata": {},
   "outputs": [],
   "source": [
    "nd = 9"
   ]
  },
  {
   "cell_type": "markdown",
   "metadata": {},
   "source": [
    "## No covariance"
   ]
  },
  {
   "cell_type": "markdown",
   "metadata": {},
   "source": [
    "### No error"
   ]
  },
  {
   "cell_type": "code",
   "execution_count": null,
   "metadata": {},
   "outputs": [],
   "source": [
    "simulate_fits(n_trips = 10000, error_size = 0, creation_func = create_nd_data, n_sims = 100, \n",
    "              do_normalize = True,\n",
    "              n_dim = nd, mean = np.zeros(nd), cov = np.eye(nd))"
   ]
  },
  {
   "cell_type": "markdown",
   "metadata": {},
   "source": [
    "### Error = 3"
   ]
  },
  {
   "cell_type": "code",
   "execution_count": null,
   "metadata": {},
   "outputs": [],
   "source": [
    "simulate_fits(n_trips = 10000, error_size = 3, creation_func = create_nd_data, n_sims = 100, \n",
    "              do_normalize = True,\n",
    "              n_dim = nd, mean = np.zeros(nd), cov = np.eye(nd))"
   ]
  },
  {
   "cell_type": "markdown",
   "metadata": {},
   "source": [
    "## Low Covariance"
   ]
  },
  {
   "cell_type": "code",
   "execution_count": null,
   "metadata": {},
   "outputs": [],
   "source": [
    "mean_cov = np.inf\n",
    "while mean_cov > 0.4:\n",
    "    cov_mat = generate_cov_mat(9,9)\n",
    "    mean_cov = np.mean(np.abs(cov_mat))"
   ]
  },
  {
   "cell_type": "markdown",
   "metadata": {},
   "source": [
    "### No error"
   ]
  },
  {
   "cell_type": "code",
   "execution_count": null,
   "metadata": {},
   "outputs": [],
   "source": [
    "simulate_fits(n_trips = 10000, error_size = 0, creation_func = create_nd_data, n_sims = 100, \n",
    "              do_normalize = True,\n",
    "              n_dim = nd, mean = np.zeros(nd), cov = cov_mat)"
   ]
  },
  {
   "cell_type": "markdown",
   "metadata": {},
   "source": [
    "### Error = 3"
   ]
  },
  {
   "cell_type": "code",
   "execution_count": null,
   "metadata": {},
   "outputs": [],
   "source": [
    "simulate_fits(n_trips = 10000, error_size = 3, creation_func = create_nd_data, n_sims = 100, \n",
    "              do_normalize = True,\n",
    "              n_dim = nd, mean = np.zeros(nd), cov = cov_mat)"
   ]
  },
  {
   "cell_type": "markdown",
   "metadata": {},
   "source": [
    "## High Covariance"
   ]
  },
  {
   "cell_type": "code",
   "execution_count": null,
   "metadata": {},
   "outputs": [],
   "source": [
    "mean_cov = 0\n",
    "while mean_cov < 0.7:\n",
    "    cov_mat = generate_cov_mat(9,1)\n",
    "    mean_cov = np.mean(np.abs(cov_mat))"
   ]
  },
  {
   "cell_type": "markdown",
   "metadata": {},
   "source": [
    "### No error"
   ]
  },
  {
   "cell_type": "code",
   "execution_count": null,
   "metadata": {},
   "outputs": [],
   "source": [
    "simulate_fits(n_trips = 10000, error_size = 0, creation_func = create_nd_data, n_sims = 100, \n",
    "              do_normalize = True,\n",
    "              n_dim = nd, mean = np.zeros(nd), cov = cov_mat)"
   ]
  },
  {
   "cell_type": "markdown",
   "metadata": {},
   "source": [
    "### Error = 3"
   ]
  },
  {
   "cell_type": "code",
   "execution_count": null,
   "metadata": {},
   "outputs": [],
   "source": [
    "simulate_fits(n_trips = 10000, error_size = 3, creation_func = create_nd_data, n_sims = 100, \n",
    "              do_normalize = True,\n",
    "              n_dim = nd, mean = np.zeros(nd), cov = cov_mat)"
   ]
  },
  {
   "cell_type": "markdown",
   "metadata": {},
   "source": [
    "# 27 dimensions"
   ]
  },
  {
   "cell_type": "code",
   "execution_count": null,
   "metadata": {},
   "outputs": [],
   "source": [
    "nd = 27"
   ]
  },
  {
   "cell_type": "markdown",
   "metadata": {},
   "source": [
    "## No covariance"
   ]
  },
  {
   "cell_type": "markdown",
   "metadata": {},
   "source": [
    "### No error"
   ]
  },
  {
   "cell_type": "code",
   "execution_count": null,
   "metadata": {},
   "outputs": [],
   "source": [
    "simulate_fits(n_trips = 10000, error_size = 0, creation_func = create_nd_data, n_sims = 100, \n",
    "              do_normalize = True,\n",
    "              n_dim = nd, mean = np.zeros(nd), cov = np.eye(nd))"
   ]
  },
  {
   "cell_type": "markdown",
   "metadata": {},
   "source": [
    "### Error = 3"
   ]
  },
  {
   "cell_type": "code",
   "execution_count": null,
   "metadata": {},
   "outputs": [],
   "source": [
    "simulate_fits(n_trips = 10000, error_size = 3, creation_func = create_nd_data, n_sims = 100, \n",
    "              do_normalize = True,\n",
    "              n_dim = nd, mean = np.zeros(nd), cov = np.eye(nd))"
   ]
  },
  {
   "cell_type": "markdown",
   "metadata": {},
   "source": [
    "## Low covariance"
   ]
  },
  {
   "cell_type": "code",
   "execution_count": null,
   "metadata": {},
   "outputs": [],
   "source": [
    "mean_cov = np.inf\n",
    "while mean_cov > 0.4:\n",
    "    cov_mat = generate_cov_mat(27,27)\n",
    "    mean_cov = np.mean(np.abs(cov_mat))"
   ]
  },
  {
   "cell_type": "markdown",
   "metadata": {},
   "source": [
    "### No error"
   ]
  },
  {
   "cell_type": "code",
   "execution_count": null,
   "metadata": {},
   "outputs": [],
   "source": [
    "simulate_fits(n_trips = 10000, error_size = 0, creation_func = create_nd_data, n_sims = 100, \n",
    "              do_normalize = True,\n",
    "              n_dim = nd, mean = np.zeros(nd), cov = cov_mat)"
   ]
  },
  {
   "cell_type": "markdown",
   "metadata": {},
   "source": [
    "### Error = 3"
   ]
  },
  {
   "cell_type": "code",
   "execution_count": null,
   "metadata": {},
   "outputs": [],
   "source": [
    "simulate_fits(n_trips = 10000, error_size = 3, creation_func = create_nd_data, n_sims = 100, \n",
    "              do_normalize = True,\n",
    "              n_dim = nd, mean = np.zeros(nd), cov = cov_mat)"
   ]
  },
  {
   "cell_type": "markdown",
   "metadata": {},
   "source": [
    "## High covariance"
   ]
  },
  {
   "cell_type": "code",
   "execution_count": null,
   "metadata": {},
   "outputs": [],
   "source": [
    "mean_cov = 0\n",
    "while mean_cov < 0.7:\n",
    "    cov_mat = generate_cov_mat(27,1)\n",
    "    mean_cov = np.mean(np.abs(cov_mat))"
   ]
  },
  {
   "cell_type": "markdown",
   "metadata": {},
   "source": [
    "### No error"
   ]
  },
  {
   "cell_type": "code",
   "execution_count": null,
   "metadata": {},
   "outputs": [],
   "source": [
    "simulate_fits(n_trips = 10000, error_size = 0, creation_func = create_nd_data, n_sims = 100, \n",
    "              do_normalize = True,\n",
    "              n_dim = nd, mean = np.zeros(nd), cov = cov_mat)"
   ]
  },
  {
   "cell_type": "markdown",
   "metadata": {},
   "source": [
    "### Error = 3"
   ]
  },
  {
   "cell_type": "code",
   "execution_count": null,
   "metadata": {},
   "outputs": [],
   "source": [
    "simulate_fits(n_trips = 10000, error_size = 3, creation_func = create_nd_data, n_sims = 100, \n",
    "              do_normalize = True,\n",
    "              n_dim = nd, mean = np.zeros(nd), cov = cov_mat)"
   ]
  }
 ],
 "metadata": {
  "kernelspec": {
   "display_name": "Python 3",
   "language": "python",
   "name": "python3"
  },
  "language_info": {
   "codemirror_mode": {
    "name": "ipython",
    "version": 3
   },
   "file_extension": ".py",
   "mimetype": "text/x-python",
   "name": "python",
   "nbconvert_exporter": "python",
   "pygments_lexer": "ipython3",
   "version": "3.7.7"
  }
 },
 "nbformat": 4,
 "nbformat_minor": 4
}
