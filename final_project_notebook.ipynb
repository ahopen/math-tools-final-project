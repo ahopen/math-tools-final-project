{
 "cells": [
  {
   "cell_type": "code",
   "execution_count": 1,
   "metadata": {},
   "outputs": [],
   "source": [
    "import numpy as np\n",
    "import matplotlib.pyplot as plt"
   ]
  },
  {
   "cell_type": "markdown",
   "metadata": {},
   "source": [
    "First we simulate JFK and Standard Rate rides with the same linear regression as in the data, but with no error. This should be extremely easy to fit with the standard EM algorithm."
   ]
  },
  {
   "cell_type": "code",
   "execution_count": 2,
   "metadata": {},
   "outputs": [],
   "source": [
    "distances = np.random.uniform(0, 60, size = 10000).reshape(10000, -1)\n",
    "trip_type = np.random.randint(0, 1+1, size = 10000).reshape(10000, -1)\n",
    "beta_0 = 52 * trip_type\n",
    "beta_1 = 2.29 * (1 - trip_type)\n",
    "cost = beta_0 + distances * beta_1\n",
    "cost = cost.reshape(-1)"
   ]
  },
  {
   "cell_type": "markdown",
   "metadata": {},
   "source": [
    "Compare the scatter plot below to the scatter plot from our project proposal."
   ]
  },
  {
   "cell_type": "code",
   "execution_count": 5,
   "metadata": {},
   "outputs": [
    {
     "data": {
      "text/plain": [
       "<matplotlib.collections.PathCollection at 0x7f230d99cd10>"
      ]
     },
     "execution_count": 5,
     "metadata": {},
     "output_type": "execute_result"
    },
    {
     "data": {
      "image/png": "[encoded data removed]",
      "text/plain": [
       "<Figure size 432x288 with 1 Axes>"
      ]
     },
     "metadata": {
      "needs_background": "light"
     },
     "output_type": "display_data"
    }
   ],
   "source": [
    "plt.scatter(distances, cost)"
   ]
  },
  {
   "cell_type": "markdown",
   "metadata": {},
   "source": [
    "The functions below run the the mixed regression algorithms. Note that the master function is at the bottom. The improved initialization procedure from the paper still needs to be written."
   ]
  },
  {
   "cell_type": "code",
   "execution_count": 54,
   "metadata": {},
   "outputs": [],
   "source": [
    "def initialize_classic(n_features, mean = 0.0, sd = 1.0):\n",
    "    betas = {}\n",
    "    for i in range(2):\n",
    "        betas[i] = np.random.normal(mean, sd, n_features)\n",
    "    return(betas)\n",
    "\n",
    "def initialize_optimal(X):\n",
    "    \"\"\"\n",
    "    TO DO\n",
    "    \"\"\"\n",
    "\n",
    "def run_EM_iteration(X, y, betas):\n",
    "    pred0 = X.transpose().dot(betas[0])\n",
    "    pred1 = X.transpose().dot(betas[1])\n",
    "    err0 = np.abs(pred0 - y)\n",
    "    err1 = np.abs(pred1 - y)\n",
    "    lower_error = (err0 < err1)\n",
    "    j0_ind = np.where(lower_error)\n",
    "    j1_ind = np.where(~lower_error)\n",
    "    j0 = distances[j0_ind]\n",
    "    j1 = distances[j1_ind]\n",
    "    \n",
    "    ##Solve least squares\n",
    "    ones_0 = np.ones(j0.size)\n",
    "    ones_1 = np.ones(j1.size)\n",
    "    X_0 = np.array([ones_0, j0.reshape(-1)])\n",
    "    X_1 = np.array([ones_1, j1.reshape(-1)])\n",
    "    \n",
    "    try:\n",
    "        beta_0 = np.linalg.inv(X_0.dot(X_0.transpose())).dot(X_0).dot(y[j0_ind])\n",
    "    except:\n",
    "        beta_0 = betas[0]\n",
    "    \n",
    "    try:\n",
    "        beta_1 = np.linalg.inv(X_1.dot(X_1.transpose())).dot(X_1).dot(y[j1_ind])\n",
    "    except:\n",
    "        beta_1 = betas[1]\n",
    "    \n",
    "    betas = {0: beta_0,\n",
    "             1: beta_1}\n",
    "    \n",
    "    iter_err_0 = np.sum((beta_0.dot(X_0) - y[j0_ind])**2)\n",
    "    iter_err_1 = np.sum((beta_1.dot(X_1) - y[j1_ind])**2)\n",
    "    iter_err = np.log(np.sqrt(iter_err_0 + iter_err_1))\n",
    "    \n",
    "    return(betas, iter_err)\n",
    "\n",
    "def fit_mixed_regression(x, y, n_iter = 10, algo_type = 'classic'):\n",
    "    n_samples = x.size\n",
    "    ones = np.ones(x.size)\n",
    "    X = np.array([ones, x.reshape(-1)])\n",
    "    \n",
    "    #initialize parameters\n",
    "    if algo_type == 'classic':\n",
    "        betas = initialize_classic(X.shape[0])\n",
    "    else:\n",
    "        betas = initialize_optimal(X.shape[0])\n",
    "\n",
    "    iter_errs = []\n",
    "    for j in range(n_iter):\n",
    "        betas, iter_err = run_EM_iteration(X, y, betas)\n",
    "        iter_errs.append(iter_err)\n",
    "    return(betas, iter_errs)"
   ]
  },
  {
   "cell_type": "markdown",
   "metadata": {},
   "source": [
    "The fitting procedure currently returns the final beta parameters and a list of the errors at the end of each iteration. Note that changing the seed may cause errors. I think this is because the random initialization of beta parameters sometimes results in all or almost all of the data belonging to one of the latent classes, so doing matrix operations is nonsense or causes singular matrix errors. We need to come up with a solution to this. (I was unable to tell what initialization procedure they use in the paper for the standard EM algorithm. I'm not sure if my version is comparable.)"
   ]
  },
  {
   "cell_type": "code",
   "execution_count": 56,
   "metadata": {},
   "outputs": [],
   "source": [
    "np.random.seed(8)\n",
    "betas, iter_errs = fit_mixed_regression(distances, cost, algo_type = 'classic')"
   ]
  },
  {
   "cell_type": "markdown",
   "metadata": {},
   "source": [
    "We see that we recover the true coefficients almost immediately. This is what I expected to see for a case with no noise and lines that are mostly not near each other."
   ]
  },
  {
   "cell_type": "code",
   "execution_count": 57,
   "metadata": {},
   "outputs": [
    {
     "data": {
      "text/plain": [
       "Text(0.5, 1.0, 'Random initialization for mixed regression')"
      ]
     },
     "execution_count": 57,
     "metadata": {},
     "output_type": "execute_result"
    },
    {
     "data": {
      "image/png": "[encoded data removed]",
      "text/plain": [
       "<Figure size 432x288 with 1 Axes>"
      ]
     },
     "metadata": {
      "needs_background": "light"
     },
     "output_type": "display_data"
    }
   ],
   "source": [
    "plt.plot(iter_errs)\n",
    "plt.xlabel('Iteration Number')\n",
    "plt.ylabel('log(RMSE)')\n",
    "plt.title('Random initialization for mixed regression')"
   ]
  },
  {
   "cell_type": "code",
   "execution_count": null,
   "metadata": {},
   "outputs": [],
   "source": []
  }
 ],
 "metadata": {
  "kernelspec": {
   "display_name": "Python 3",
   "language": "python",
   "name": "python3"
  },
  "language_info": {
   "codemirror_mode": {
    "name": "ipython",
    "version": 3
   },
   "file_extension": ".py",
   "mimetype": "text/x-python",
   "name": "python",
   "nbconvert_exporter": "python",
   "pygments_lexer": "ipython3",
   "version": "3.7.6"
  }
 },
 "nbformat": 4,
 "nbformat_minor": 4
}
